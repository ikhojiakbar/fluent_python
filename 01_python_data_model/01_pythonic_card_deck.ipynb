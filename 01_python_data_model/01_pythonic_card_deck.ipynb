{
 "cells": [
  {
   "cell_type": "code",
   "execution_count": 1,
   "id": "bbd9d564",
   "metadata": {},
   "outputs": [],
   "source": [
    "import collections\n",
    "\n",
    "Card = collections.namedtuple('card', ['rank', 'suit'])\n",
    "\n",
    "class FrenchDeck():\n",
    "    ranks = [str(n) for n in range(2,11)] + list('JQKA')\n",
    "    suits = 'spades diamonds clubs hearts'.split()\n",
    "    \n",
    "    def __init__(self):\n",
    "        self._cards = [Card(rank, suit) for suit in self.suits\n",
    "                                        for rank in self.ranks]\n",
    "        \n",
    "    def __len__(self):\n",
    "        return len(self._cards)\n",
    "    \n",
    "    def __getitem__(self, position):\n",
    "        return self._cards[position]"
   ]
  },
  {
   "cell_type": "code",
   "execution_count": 2,
   "id": "d9f5f652",
   "metadata": {},
   "outputs": [
    {
     "data": {
      "text/plain": [
       "card(rank='7', suit='diamonds')"
      ]
     },
     "execution_count": 2,
     "metadata": {},
     "output_type": "execute_result"
    }
   ],
   "source": [
    "beer_card = Card('7', 'diamonds')\n",
    "beer_card"
   ]
  },
  {
   "cell_type": "code",
   "execution_count": 3,
   "id": "af78b15e",
   "metadata": {},
   "outputs": [
    {
     "data": {
      "text/plain": [
       "52"
      ]
     },
     "execution_count": 3,
     "metadata": {},
     "output_type": "execute_result"
    }
   ],
   "source": [
    "deck = FrenchDeck()\n",
    "len(deck)"
   ]
  },
  {
   "cell_type": "code",
   "execution_count": 4,
   "id": "679ae8ba",
   "metadata": {},
   "outputs": [
    {
     "name": "stdout",
     "output_type": "stream",
     "text": [
      "card(rank='2', suit='spades')\n",
      "card(rank='A', suit='hearts')\n"
     ]
    }
   ],
   "source": [
    "print(deck[0])\n",
    "print(deck[-1])"
   ]
  },
  {
   "cell_type": "code",
   "execution_count": 5,
   "id": "3e8f8d0b",
   "metadata": {},
   "outputs": [
    {
     "name": "stdout",
     "output_type": "stream",
     "text": [
      "card(rank='7', suit='diamonds')\n",
      "card(rank='3', suit='hearts')\n",
      "card(rank='A', suit='clubs')\n"
     ]
    }
   ],
   "source": [
    "from random import choice\n",
    "\n",
    "print(choice(deck))\n",
    "print(choice(deck))\n",
    "print(choice(deck))"
   ]
  },
  {
   "cell_type": "code",
   "execution_count": 6,
   "id": "9c584bee",
   "metadata": {},
   "outputs": [
    {
     "data": {
      "text/plain": [
       "[card(rank='2', suit='spades'),\n",
       " card(rank='3', suit='spades'),\n",
       " card(rank='4', suit='spades')]"
      ]
     },
     "execution_count": 6,
     "metadata": {},
     "output_type": "execute_result"
    }
   ],
   "source": [
    "deck[:3]"
   ]
  },
  {
   "cell_type": "code",
   "execution_count": 7,
   "id": "24f49587",
   "metadata": {},
   "outputs": [
    {
     "data": {
      "text/plain": [
       "[card(rank='A', suit='spades'),\n",
       " card(rank='A', suit='diamonds'),\n",
       " card(rank='A', suit='clubs'),\n",
       " card(rank='A', suit='hearts')]"
      ]
     },
     "execution_count": 7,
     "metadata": {},
     "output_type": "execute_result"
    }
   ],
   "source": [
    "#skipping 13 elements\n",
    "deck[12::13]"
   ]
  },
  {
   "cell_type": "code",
   "execution_count": 8,
   "id": "545718b6",
   "metadata": {},
   "outputs": [
    {
     "name": "stdout",
     "output_type": "stream",
     "text": [
      "card(rank='2', suit='spades')\n",
      "card(rank='3', suit='spades')\n",
      "card(rank='4', suit='spades')\n",
      "card(rank='5', suit='spades')\n",
      "card(rank='6', suit='spades')\n",
      "card(rank='7', suit='spades')\n",
      "card(rank='8', suit='spades')\n",
      "card(rank='9', suit='spades')\n",
      "card(rank='10', suit='spades')\n",
      "card(rank='J', suit='spades')\n",
      "card(rank='Q', suit='spades')\n",
      "card(rank='K', suit='spades')\n",
      "card(rank='A', suit='spades')\n",
      "card(rank='2', suit='diamonds')\n",
      "card(rank='3', suit='diamonds')\n",
      "card(rank='4', suit='diamonds')\n",
      "card(rank='5', suit='diamonds')\n",
      "card(rank='6', suit='diamonds')\n",
      "card(rank='7', suit='diamonds')\n",
      "card(rank='8', suit='diamonds')\n",
      "card(rank='9', suit='diamonds')\n",
      "card(rank='10', suit='diamonds')\n",
      "card(rank='J', suit='diamonds')\n",
      "card(rank='Q', suit='diamonds')\n",
      "card(rank='K', suit='diamonds')\n",
      "card(rank='A', suit='diamonds')\n",
      "card(rank='2', suit='clubs')\n",
      "card(rank='3', suit='clubs')\n",
      "card(rank='4', suit='clubs')\n",
      "card(rank='5', suit='clubs')\n",
      "card(rank='6', suit='clubs')\n",
      "card(rank='7', suit='clubs')\n",
      "card(rank='8', suit='clubs')\n",
      "card(rank='9', suit='clubs')\n",
      "card(rank='10', suit='clubs')\n",
      "card(rank='J', suit='clubs')\n",
      "card(rank='Q', suit='clubs')\n",
      "card(rank='K', suit='clubs')\n",
      "card(rank='A', suit='clubs')\n",
      "card(rank='2', suit='hearts')\n",
      "card(rank='3', suit='hearts')\n",
      "card(rank='4', suit='hearts')\n",
      "card(rank='5', suit='hearts')\n",
      "card(rank='6', suit='hearts')\n",
      "card(rank='7', suit='hearts')\n",
      "card(rank='8', suit='hearts')\n",
      "card(rank='9', suit='hearts')\n",
      "card(rank='10', suit='hearts')\n",
      "card(rank='J', suit='hearts')\n",
      "card(rank='Q', suit='hearts')\n",
      "card(rank='K', suit='hearts')\n",
      "card(rank='A', suit='hearts')\n"
     ]
    }
   ],
   "source": [
    "#iterable\n",
    "for card in deck:\n",
    "    print(card)"
   ]
  },
  {
   "cell_type": "code",
   "execution_count": 9,
   "id": "16171058",
   "metadata": {},
   "outputs": [
    {
     "name": "stdout",
     "output_type": "stream",
     "text": [
      "card(rank='A', suit='hearts')\n",
      "card(rank='K', suit='hearts')\n",
      "card(rank='Q', suit='hearts')\n",
      "card(rank='J', suit='hearts')\n",
      "card(rank='10', suit='hearts')\n",
      "card(rank='9', suit='hearts')\n",
      "card(rank='8', suit='hearts')\n",
      "card(rank='7', suit='hearts')\n",
      "card(rank='6', suit='hearts')\n",
      "card(rank='5', suit='hearts')\n",
      "card(rank='4', suit='hearts')\n",
      "card(rank='3', suit='hearts')\n",
      "card(rank='2', suit='hearts')\n",
      "card(rank='A', suit='clubs')\n",
      "card(rank='K', suit='clubs')\n",
      "card(rank='Q', suit='clubs')\n",
      "card(rank='J', suit='clubs')\n",
      "card(rank='10', suit='clubs')\n",
      "card(rank='9', suit='clubs')\n",
      "card(rank='8', suit='clubs')\n",
      "card(rank='7', suit='clubs')\n",
      "card(rank='6', suit='clubs')\n",
      "card(rank='5', suit='clubs')\n",
      "card(rank='4', suit='clubs')\n",
      "card(rank='3', suit='clubs')\n",
      "card(rank='2', suit='clubs')\n",
      "card(rank='A', suit='diamonds')\n",
      "card(rank='K', suit='diamonds')\n",
      "card(rank='Q', suit='diamonds')\n",
      "card(rank='J', suit='diamonds')\n",
      "card(rank='10', suit='diamonds')\n",
      "card(rank='9', suit='diamonds')\n",
      "card(rank='8', suit='diamonds')\n",
      "card(rank='7', suit='diamonds')\n",
      "card(rank='6', suit='diamonds')\n",
      "card(rank='5', suit='diamonds')\n",
      "card(rank='4', suit='diamonds')\n",
      "card(rank='3', suit='diamonds')\n",
      "card(rank='2', suit='diamonds')\n",
      "card(rank='A', suit='spades')\n",
      "card(rank='K', suit='spades')\n",
      "card(rank='Q', suit='spades')\n",
      "card(rank='J', suit='spades')\n",
      "card(rank='10', suit='spades')\n",
      "card(rank='9', suit='spades')\n",
      "card(rank='8', suit='spades')\n",
      "card(rank='7', suit='spades')\n",
      "card(rank='6', suit='spades')\n",
      "card(rank='5', suit='spades')\n",
      "card(rank='4', suit='spades')\n",
      "card(rank='3', suit='spades')\n",
      "card(rank='2', suit='spades')\n"
     ]
    }
   ],
   "source": [
    "#reverse iteration => pastdan tepaga oqiladi\n",
    "for card in reversed(deck):\n",
    "    print(card)"
   ]
  },
  {
   "cell_type": "code",
   "execution_count": 10,
   "id": "63a89e4f",
   "metadata": {},
   "outputs": [
    {
     "name": "stdout",
     "output_type": "stream",
     "text": [
      "True\n",
      "False\n"
     ]
    }
   ],
   "source": [
    "#searching\n",
    "\n",
    "print(Card('7', 'hearts') in deck)\n",
    "print(Card('7', 'beasts') in deck)"
   ]
  },
  {
   "cell_type": "code",
   "execution_count": 11,
   "id": "cafd78ca",
   "metadata": {},
   "outputs": [],
   "source": [
    "#sorting\n",
    "\n",
    "suit_values = dict(spades=3, hearts=2, diamonds=1, clubs=0)\n",
    "\n",
    "def spades_high(card):\n",
    "    rank_value = FrenchDeck.ranks.index(card.rank)\n",
    "    return rank_value * len(suit_values) + suit_values[card.suit]"
   ]
  },
  {
   "cell_type": "code",
   "execution_count": 12,
   "id": "15140042",
   "metadata": {},
   "outputs": [
    {
     "name": "stdout",
     "output_type": "stream",
     "text": [
      "card(rank='2', suit='clubs')\n",
      "card(rank='2', suit='diamonds')\n",
      "card(rank='2', suit='hearts')\n",
      "card(rank='2', suit='spades')\n",
      "card(rank='3', suit='clubs')\n",
      "card(rank='3', suit='diamonds')\n",
      "card(rank='3', suit='hearts')\n",
      "card(rank='3', suit='spades')\n",
      "card(rank='4', suit='clubs')\n",
      "card(rank='4', suit='diamonds')\n",
      "card(rank='4', suit='hearts')\n",
      "card(rank='4', suit='spades')\n",
      "card(rank='5', suit='clubs')\n",
      "card(rank='5', suit='diamonds')\n",
      "card(rank='5', suit='hearts')\n",
      "card(rank='5', suit='spades')\n",
      "card(rank='6', suit='clubs')\n",
      "card(rank='6', suit='diamonds')\n",
      "card(rank='6', suit='hearts')\n",
      "card(rank='6', suit='spades')\n",
      "card(rank='7', suit='clubs')\n",
      "card(rank='7', suit='diamonds')\n",
      "card(rank='7', suit='hearts')\n",
      "card(rank='7', suit='spades')\n",
      "card(rank='8', suit='clubs')\n",
      "card(rank='8', suit='diamonds')\n",
      "card(rank='8', suit='hearts')\n",
      "card(rank='8', suit='spades')\n",
      "card(rank='9', suit='clubs')\n",
      "card(rank='9', suit='diamonds')\n",
      "card(rank='9', suit='hearts')\n",
      "card(rank='9', suit='spades')\n",
      "card(rank='10', suit='clubs')\n",
      "card(rank='10', suit='diamonds')\n",
      "card(rank='10', suit='hearts')\n",
      "card(rank='10', suit='spades')\n",
      "card(rank='J', suit='clubs')\n",
      "card(rank='J', suit='diamonds')\n",
      "card(rank='J', suit='hearts')\n",
      "card(rank='J', suit='spades')\n",
      "card(rank='Q', suit='clubs')\n",
      "card(rank='Q', suit='diamonds')\n",
      "card(rank='Q', suit='hearts')\n",
      "card(rank='Q', suit='spades')\n",
      "card(rank='K', suit='clubs')\n",
      "card(rank='K', suit='diamonds')\n",
      "card(rank='K', suit='hearts')\n",
      "card(rank='K', suit='spades')\n",
      "card(rank='A', suit='clubs')\n",
      "card(rank='A', suit='diamonds')\n",
      "card(rank='A', suit='hearts')\n",
      "card(rank='A', suit='spades')\n"
     ]
    }
   ],
   "source": [
    "for card in sorted(deck, key=spades_high):\n",
    "    print(card)"
   ]
  }
 ],
 "metadata": {
  "kernelspec": {
   "display_name": "Python 3",
   "language": "python",
   "name": "python3"
  },
  "language_info": {
   "codemirror_mode": {
    "name": "ipython",
    "version": 3
   },
   "file_extension": ".py",
   "mimetype": "text/x-python",
   "name": "python",
   "nbconvert_exporter": "python",
   "pygments_lexer": "ipython3",
   "version": "3.8.8"
  }
 },
 "nbformat": 4,
 "nbformat_minor": 5
}
