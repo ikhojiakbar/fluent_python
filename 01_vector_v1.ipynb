{
 "cells": [
  {
   "cell_type": "markdown",
   "id": "2451319a",
   "metadata": {},
   "source": [
    "# Vector Take #1: Vector2d Compatible"
   ]
  },
  {
   "cell_type": "code",
   "execution_count": 1,
   "id": "b670c9c9",
   "metadata": {},
   "outputs": [],
   "source": [
    "from array import array\n",
    "import reprlib\n",
    "import math"
   ]
  },
  {
   "cell_type": "code",
   "execution_count": 2,
   "id": "0f08901e",
   "metadata": {},
   "outputs": [],
   "source": [
    "class Vector:\n",
    "    typecode = 'd'\n",
    "    \n",
    "    def __init__(self, dimensions):\n",
    "        self._dimensions = array(self.typecode, dimensions)\n",
    "        \n",
    "    def __iter__(self):  #allowing iteration\n",
    "        return iter(self._dimensions)\n",
    "    \n",
    "    def __repr__(self):\n",
    "        dimensions = reprlib.repr(self._dimensions)\n",
    "        dimensions = dimensions[dimensions.find('['):-1]\n",
    "        return 'Vector({})'.format(dimensions)\n",
    "    \n",
    "    def __str__(self):\n",
    "        return str(tuple(self))\n",
    "    \n",
    "    def __bytes__(self):\n",
    "        return (bytes([ord(self.typecode)]) + bytes(self._dimensions))\n",
    "    \n",
    "    def __eq__(self, other):\n",
    "        return tuple(self) == tuple(other)\n",
    "    \n",
    "    def __abs__(self):\n",
    "        return math.sqrt(sum(x ** 2 for x in self))  #hypot is for 2 dimensional data\n",
    "    \n",
    "    def __bool__(self):\n",
    "        return bool(abs(self))\n",
    "    \n",
    "    @classmethod\n",
    "    def frombytes(cls, octets):\n",
    "        typecode = chr(octets[0])\n",
    "        memv = memoryview(octets[1:]).cast(typecode)\n",
    "        return cls(memv)"
   ]
  },
  {
   "cell_type": "code",
   "execution_count": 3,
   "id": "19c22a63",
   "metadata": {},
   "outputs": [
    {
     "data": {
      "text/plain": [
       "Vector([3.1, 4.2])"
      ]
     },
     "execution_count": 3,
     "metadata": {},
     "output_type": "execute_result"
    }
   ],
   "source": [
    "Vector([3.1, 4.2])"
   ]
  },
  {
   "cell_type": "code",
   "execution_count": 4,
   "id": "2c51a42a",
   "metadata": {},
   "outputs": [
    {
     "data": {
      "text/plain": [
       "Vector([3.0, 4.0, 5.0, 6.0])"
      ]
     },
     "execution_count": 4,
     "metadata": {},
     "output_type": "execute_result"
    }
   ],
   "source": [
    "Vector((3, 4, 5, 6))"
   ]
  },
  {
   "cell_type": "code",
   "execution_count": 5,
   "id": "3cf21eb0",
   "metadata": {},
   "outputs": [
    {
     "data": {
      "text/plain": [
       "Vector([0.0, 1.0, 2.0, 3.0, 4.0, ...])"
      ]
     },
     "execution_count": 5,
     "metadata": {},
     "output_type": "execute_result"
    }
   ],
   "source": [
    "#reprlib limitation on __repr__\n",
    "Vector(range(10))"
   ]
  }
 ],
 "metadata": {
  "kernelspec": {
   "display_name": "Python 3",
   "language": "python",
   "name": "python3"
  },
  "language_info": {
   "codemirror_mode": {
    "name": "ipython",
    "version": 3
   },
   "file_extension": ".py",
   "mimetype": "text/x-python",
   "name": "python",
   "nbconvert_exporter": "python",
   "pygments_lexer": "ipython3",
   "version": "3.8.8"
  }
 },
 "nbformat": 4,
 "nbformat_minor": 5
}
