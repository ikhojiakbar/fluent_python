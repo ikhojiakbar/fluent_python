{
 "cells": [
  {
   "cell_type": "markdown",
   "id": "5fddb03d",
   "metadata": {},
   "source": [
    "# Formatted Displays"
   ]
  },
  {
   "cell_type": "markdown",
   "id": "79fadf2c",
   "metadata": {},
   "source": [
    "## 1. format()"
   ]
  },
  {
   "cell_type": "code",
   "execution_count": 1,
   "id": "f1713927",
   "metadata": {},
   "outputs": [
    {
     "data": {
      "text/plain": [
       "9.09090909090909e-05"
      ]
     },
     "execution_count": 1,
     "metadata": {},
     "output_type": "execute_result"
    }
   ],
   "source": [
    "uzs = 1/11000\n",
    "uzs"
   ]
  },
  {
   "cell_type": "code",
   "execution_count": 2,
   "id": "6b1b1c10",
   "metadata": {},
   "outputs": [
    {
     "data": {
      "text/plain": [
       "'0.0001'"
      ]
     },
     "execution_count": 2,
     "metadata": {},
     "output_type": "execute_result"
    }
   ],
   "source": [
    "# '0.4f' = 4 digits after decimal sign in the float dtype\n",
    "format(uzs, '0.4f')"
   ]
  },
  {
   "cell_type": "markdown",
   "id": "c2140e23",
   "metadata": {},
   "source": [
    "## 2. str.format()"
   ]
  },
  {
   "cell_type": "code",
   "execution_count": 3,
   "id": "25702dea",
   "metadata": {},
   "outputs": [
    {
     "data": {
      "text/plain": [
       "'1 UZS = 0.00009 USD'"
      ]
     },
     "execution_count": 3,
     "metadata": {},
     "output_type": "execute_result"
    }
   ],
   "source": [
    "exchange = '1 UZS = {:0.5f} USD'.format(uzs)\n",
    "exchange"
   ]
  },
  {
   "cell_type": "markdown",
   "id": "871fe73f",
   "metadata": {},
   "source": [
    "## 3. Built-in types acronym"
   ]
  },
  {
   "cell_type": "code",
   "execution_count": 4,
   "id": "5f47c40c",
   "metadata": {},
   "outputs": [
    {
     "data": {
      "text/plain": [
       "'1001'"
      ]
     },
     "execution_count": 4,
     "metadata": {},
     "output_type": "execute_result"
    }
   ],
   "source": [
    "format(9, 'b')"
   ]
  },
  {
   "cell_type": "code",
   "execution_count": 5,
   "id": "ef656853",
   "metadata": {},
   "outputs": [
    {
     "data": {
      "text/plain": [
       "'66.67%'"
      ]
     },
     "execution_count": 5,
     "metadata": {},
     "output_type": "execute_result"
    }
   ],
   "source": [
    "format(2/3, '0.2%')"
   ]
  },
  {
   "cell_type": "code",
   "execution_count": 6,
   "id": "c671badd",
   "metadata": {},
   "outputs": [
    {
     "data": {
      "text/plain": [
       "'11:56:50'"
      ]
     },
     "execution_count": 6,
     "metadata": {},
     "output_type": "execute_result"
    }
   ],
   "source": [
    "from datetime import datetime\n",
    "\n",
    "now = datetime.now()\n",
    "format(now, '%H:%M:%S')"
   ]
  },
  {
   "cell_type": "code",
   "execution_count": 7,
   "id": "f089a39a",
   "metadata": {},
   "outputs": [
    {
     "name": "stdout",
     "output_type": "stream",
     "text": [
      "It is 11:56 AM\n"
     ]
    }
   ],
   "source": [
    "print('It is {:%I:%M %p}'.format(now))"
   ]
  }
 ],
 "metadata": {
  "kernelspec": {
   "display_name": "Python 3",
   "language": "python",
   "name": "python3"
  },
  "language_info": {
   "codemirror_mode": {
    "name": "ipython",
    "version": 3
   },
   "file_extension": ".py",
   "mimetype": "text/x-python",
   "name": "python",
   "nbconvert_exporter": "python",
   "pygments_lexer": "ipython3",
   "version": "3.8.8"
  }
 },
 "nbformat": 4,
 "nbformat_minor": 5
}
