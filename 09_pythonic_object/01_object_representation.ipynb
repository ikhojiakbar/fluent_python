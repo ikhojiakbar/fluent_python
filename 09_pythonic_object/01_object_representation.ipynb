{
 "cells": [
  {
   "cell_type": "code",
   "execution_count": 1,
   "id": "cebc799d",
   "metadata": {},
   "outputs": [],
   "source": [
    "from array import array\n",
    "import math"
   ]
  },
  {
   "cell_type": "code",
   "execution_count": 2,
   "id": "703665af",
   "metadata": {},
   "outputs": [],
   "source": [
    "class Vector2D:\n",
    "    typecode = 'd'\n",
    "    \n",
    "    def __init__(self, x, y):\n",
    "        self.x = float(x)   #float makes to get proper inout to the class\n",
    "        self.y = float(y)\n",
    "        \n",
    "    def __iter__(self):\n",
    "        return (i for i in (self.x, self.y))\n",
    "        \n",
    "    def __repr__(self):   #developer low-level output\n",
    "        class_name = type(self).__name__\n",
    "        return '{}({!r}, {!r})'.format(class_name, *self)\n",
    "    \n",
    "    def __str__(self):    #user high-level output\n",
    "        return str(tuple(self))\n",
    "    \n",
    "    def __bytes__(self):\n",
    "        return (bytes([ord(self.typecode)]) + bytes(array(self.typecode, self)))\n",
    "    \n",
    "    def __eq__(self, other):\n",
    "        return tuple(self) == tuple(other)\n",
    "    \n",
    "    def __abs__(self):\n",
    "        return math.hypot(self.x, self.y)\n",
    "    \n",
    "    def __bool__(self):\n",
    "        return bool(abs(self))"
   ]
  },
  {
   "cell_type": "markdown",
   "id": "52fda7c8",
   "metadata": {},
   "source": [
    "## 1. Testing"
   ]
  },
  {
   "cell_type": "markdown",
   "id": "c4cf7342",
   "metadata": {},
   "source": [
    "### 1.1 `__str__`"
   ]
  },
  {
   "cell_type": "code",
   "execution_count": 3,
   "id": "012e5eea",
   "metadata": {},
   "outputs": [
    {
     "name": "stdout",
     "output_type": "stream",
     "text": [
      "3.0 4.0\n"
     ]
    }
   ],
   "source": [
    "v1 = Vector2D(3, 4)\n",
    "\n",
    "#print calls __str__ specila method of the class in the tuple form\n",
    "#user output\n",
    "print(v1.x, v1.y)"
   ]
  },
  {
   "cell_type": "code",
   "execution_count": 4,
   "id": "a8e10052",
   "metadata": {},
   "outputs": [
    {
     "data": {
      "text/plain": [
       "(3.0, 4.0)"
      ]
     },
     "execution_count": 4,
     "metadata": {},
     "output_type": "execute_result"
    }
   ],
   "source": [
    "x, y = v1\n",
    "x, y"
   ]
  },
  {
   "cell_type": "code",
   "execution_count": 5,
   "id": "b5d7aebb",
   "metadata": {},
   "outputs": [
    {
     "name": "stdout",
     "output_type": "stream",
     "text": [
      "(3.0, 4.0)\n"
     ]
    }
   ],
   "source": [
    "print(v1)"
   ]
  },
  {
   "cell_type": "markdown",
   "id": "b0ff75e6",
   "metadata": {},
   "source": [
    "### 1.2 `__repr__`"
   ]
  },
  {
   "cell_type": "code",
   "execution_count": 6,
   "id": "efd0be92",
   "metadata": {},
   "outputs": [
    {
     "data": {
      "text/plain": [
       "Vector2D(3.0, 4.0)"
      ]
     },
     "execution_count": 6,
     "metadata": {},
     "output_type": "execute_result"
    }
   ],
   "source": [
    "v1"
   ]
  },
  {
   "cell_type": "markdown",
   "id": "e53cd85d",
   "metadata": {},
   "source": [
    "### 1.3 `__eq__`"
   ]
  },
  {
   "cell_type": "code",
   "execution_count": 7,
   "id": "cddac4da",
   "metadata": {},
   "outputs": [
    {
     "data": {
      "text/plain": [
       "True"
      ]
     },
     "execution_count": 7,
     "metadata": {},
     "output_type": "execute_result"
    }
   ],
   "source": [
    "v1_clone = eval(repr(v1))\n",
    "v1 == v1_clone"
   ]
  },
  {
   "cell_type": "markdown",
   "id": "1ee5ffde",
   "metadata": {},
   "source": [
    "### 1.4 `__abs__`"
   ]
  },
  {
   "cell_type": "code",
   "execution_count": 8,
   "id": "c5a2972b",
   "metadata": {},
   "outputs": [
    {
     "data": {
      "text/plain": [
       "5.0"
      ]
     },
     "execution_count": 8,
     "metadata": {},
     "output_type": "execute_result"
    }
   ],
   "source": [
    "abs(v1)"
   ]
  },
  {
   "cell_type": "markdown",
   "id": "e90aa4b0",
   "metadata": {},
   "source": [
    "### 1.5 `__bytes__`"
   ]
  },
  {
   "cell_type": "code",
   "execution_count": 9,
   "id": "8872880d",
   "metadata": {},
   "outputs": [
    {
     "data": {
      "text/plain": [
       "b'd\\x00\\x00\\x00\\x00\\x00\\x00\\x08@\\x00\\x00\\x00\\x00\\x00\\x00\\x10@'"
      ]
     },
     "execution_count": 9,
     "metadata": {},
     "output_type": "execute_result"
    }
   ],
   "source": [
    "octets = bytes(v1)\n",
    "octets"
   ]
  },
  {
   "cell_type": "markdown",
   "id": "20ecfa4d",
   "metadata": {},
   "source": [
    "### 1.6 `__bool__`"
   ]
  },
  {
   "cell_type": "code",
   "execution_count": 10,
   "id": "e1aa3822",
   "metadata": {},
   "outputs": [
    {
     "data": {
      "text/plain": [
       "(True, False)"
      ]
     },
     "execution_count": 10,
     "metadata": {},
     "output_type": "execute_result"
    }
   ],
   "source": [
    "bool(v1), bool(Vector2D(0, 0))"
   ]
  }
 ],
 "metadata": {
  "kernelspec": {
   "display_name": "Python 3",
   "language": "python",
   "name": "python3"
  },
  "language_info": {
   "codemirror_mode": {
    "name": "ipython",
    "version": 3
   },
   "file_extension": ".py",
   "mimetype": "text/x-python",
   "name": "python",
   "nbconvert_exporter": "python",
   "pygments_lexer": "ipython3",
   "version": "3.8.8"
  }
 },
 "nbformat": 4,
 "nbformat_minor": 5
}
