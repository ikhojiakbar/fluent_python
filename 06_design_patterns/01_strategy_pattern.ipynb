{
 "cells": [
  {
   "cell_type": "markdown",
   "id": "b84ebe63",
   "metadata": {},
   "source": [
    "# Case Study: `Strategy`"
   ]
  },
  {
   "cell_type": "markdown",
   "id": "1a8687be",
   "metadata": {},
   "source": [
    "## 1.1 Classic Strategy"
   ]
  },
  {
   "cell_type": "code",
   "execution_count": 1,
   "id": "68ae7d05",
   "metadata": {},
   "outputs": [],
   "source": [
    "from abc import ABC, abstractmethod\n",
    "from collections import namedtuple\n",
    "\n",
    "Customer = namedtuple('Customer', 'name fidelity')\n",
    "\n",
    "class LineItem:\n",
    "    def __init__(self, product, quantity, price):\n",
    "        self.product = product\n",
    "        self.quantity = quantity\n",
    "        self.price = price\n",
    "        \n",
    "    def total(self):\n",
    "        return self.price * self.quantity"
   ]
  },
  {
   "cell_type": "markdown",
   "id": "a1fcf4f1",
   "metadata": {},
   "source": [
    "### The `Context`"
   ]
  },
  {
   "cell_type": "code",
   "execution_count": 2,
   "id": "0e23ee1f",
   "metadata": {},
   "outputs": [],
   "source": [
    "class Order:\n",
    "    def __init__(self, customer, cart, promotion=None):\n",
    "        self.customer = customer\n",
    "        self.cart = list(cart)\n",
    "        self.promotion = promotion\n",
    "        \n",
    "    def total(self):\n",
    "        if not hasattr(self, '_total'):\n",
    "            self._total = sum(item.total() for item in self.cart)\n",
    "        return self._total\n",
    "    \n",
    "    def due(self):\n",
    "        if self.promotion is None:\n",
    "            discount = 0\n",
    "        else:\n",
    "            discount = self.promotion.discount(self)\n",
    "        return self.total() - discount\n",
    "    \n",
    "    def __repr__(self):\n",
    "        fmt = 'Order total: {:.2f} due: {:.2f}'\n",
    "        return fmt.format(self.total(), self.due())"
   ]
  },
  {
   "cell_type": "markdown",
   "id": "9e1bc60c",
   "metadata": {},
   "source": [
    "### The `Strategy`\n",
    "An abstract base class"
   ]
  },
  {
   "cell_type": "code",
   "execution_count": 3,
   "id": "e222fe4f",
   "metadata": {},
   "outputs": [],
   "source": [
    "class Promotion(ABC):\n",
    "    @abstractmethod\n",
    "    def discount(self, order):\n",
    "        '''Return discount as a positive dollar amount'''"
   ]
  },
  {
   "cell_type": "markdown",
   "id": "a687ad5c",
   "metadata": {},
   "source": [
    "### `Concrete` strategies"
   ]
  },
  {
   "cell_type": "code",
   "execution_count": 4,
   "id": "4001602f",
   "metadata": {},
   "outputs": [],
   "source": [
    "class FidelityPromo(Promotion):\n",
    "    '''5% discount for customers with 1000 or more fidelity points'''\n",
    "    \n",
    "    def discount(self, order):\n",
    "        return order.total() * 0.05 if order.customer.fidelity > 1000 else 0"
   ]
  },
  {
   "cell_type": "code",
   "execution_count": 5,
   "id": "f90ae939",
   "metadata": {},
   "outputs": [],
   "source": [
    "class BulkItemPromo(Promotion):\n",
    "    '''10% discount for each LineItem with 20 or more units'''\n",
    "    \n",
    "    def discount(self, order):\n",
    "        discount = 0\n",
    "        for item in order.cart:\n",
    "            if item.quantity >= 20:\n",
    "                discount = item.total() * 0.1\n",
    "        return discount"
   ]
  },
  {
   "cell_type": "code",
   "execution_count": 6,
   "id": "89f0b6b0",
   "metadata": {},
   "outputs": [],
   "source": [
    "class LargeOrderPromo(Promotion):\n",
    "    '''7% discount for orders with 10 or more distinct items'''\n",
    "    \n",
    "    def discount(self, order):\n",
    "        distinct_items = {item.product for item in order.cart}\n",
    "        if len(distinct_items) >= 10:\n",
    "            return order.total() * 0.07\n",
    "        return 0"
   ]
  },
  {
   "cell_type": "markdown",
   "id": "f1154ab6",
   "metadata": {},
   "source": [
    "### Testing"
   ]
  },
  {
   "cell_type": "code",
   "execution_count": 7,
   "id": "2b5d1f7f",
   "metadata": {},
   "outputs": [],
   "source": [
    "joe = Customer('John Doe', 0)\n",
    "ann = Customer('Ann Smith', 1100)"
   ]
  },
  {
   "cell_type": "code",
   "execution_count": 8,
   "id": "b32b8b38",
   "metadata": {},
   "outputs": [],
   "source": [
    "cart = [LineItem('banana', 4, 0.5),\n",
    "        LineItem('apple', 10, 1.5),\n",
    "        LineItem('watermellon', 5, 5.0)]"
   ]
  },
  {
   "cell_type": "code",
   "execution_count": 9,
   "id": "ea372ac0",
   "metadata": {},
   "outputs": [
    {
     "data": {
      "text/plain": [
       "Order total: 42.00 due: 42.00"
      ]
     },
     "execution_count": 9,
     "metadata": {},
     "output_type": "execute_result"
    }
   ],
   "source": [
    "Order(joe, cart, FidelityPromo())"
   ]
  },
  {
   "cell_type": "code",
   "execution_count": 10,
   "id": "f888de06",
   "metadata": {},
   "outputs": [
    {
     "data": {
      "text/plain": [
       "Order total: 42.00 due: 39.90"
      ]
     },
     "execution_count": 10,
     "metadata": {},
     "output_type": "execute_result"
    }
   ],
   "source": [
    "Order(ann, cart, FidelityPromo())"
   ]
  },
  {
   "cell_type": "code",
   "execution_count": 11,
   "id": "f17e1968",
   "metadata": {},
   "outputs": [],
   "source": [
    "banana_cart = [LineItem('banana', 30, 0.5),\n",
    "               LineItem('apple', 10, 1.5)]"
   ]
  },
  {
   "cell_type": "code",
   "execution_count": 12,
   "id": "ebcab155",
   "metadata": {},
   "outputs": [
    {
     "data": {
      "text/plain": [
       "Order total: 30.00 due: 28.50"
      ]
     },
     "execution_count": 12,
     "metadata": {},
     "output_type": "execute_result"
    }
   ],
   "source": [
    "Order(joe, banana_cart, BulkItemPromo())"
   ]
  },
  {
   "cell_type": "code",
   "execution_count": 13,
   "id": "f35a5ff0",
   "metadata": {},
   "outputs": [],
   "source": [
    "long_order = [LineItem(str(item_code), 1, 1.0)\n",
    "              for item_code in range(10)]"
   ]
  },
  {
   "cell_type": "code",
   "execution_count": 14,
   "id": "1dd06482",
   "metadata": {},
   "outputs": [
    {
     "data": {
      "text/plain": [
       "Order total: 10.00 due: 9.30"
      ]
     },
     "execution_count": 14,
     "metadata": {},
     "output_type": "execute_result"
    }
   ],
   "source": [
    "Order(joe, long_order, LargeOrderPromo())"
   ]
  },
  {
   "cell_type": "code",
   "execution_count": 15,
   "id": "cef9685e",
   "metadata": {},
   "outputs": [
    {
     "data": {
      "text/plain": [
       "Order total: 42.00 due: 42.00"
      ]
     },
     "execution_count": 15,
     "metadata": {},
     "output_type": "execute_result"
    }
   ],
   "source": [
    "Order(joe, cart, LargeOrderPromo())"
   ]
  },
  {
   "cell_type": "markdown",
   "id": "4771f8be",
   "metadata": {},
   "source": [
    "## 1.2 Function-Oriented Strategy"
   ]
  },
  {
   "cell_type": "code",
   "execution_count": 16,
   "id": "cb954ccb",
   "metadata": {},
   "outputs": [],
   "source": [
    "from collections import namedtuple\n",
    "\n",
    "class LineItem:\n",
    "    def __init__(self, product, quantity, price):\n",
    "        self.product = product\n",
    "        self.quantity = quantity\n",
    "        self.price = price\n",
    "        \n",
    "    def total(self):\n",
    "        return self.quantity * self.price"
   ]
  },
  {
   "cell_type": "markdown",
   "id": "0148a9d5",
   "metadata": {},
   "source": [
    "### The `Context`"
   ]
  },
  {
   "cell_type": "code",
   "execution_count": 17,
   "id": "1bd35074",
   "metadata": {},
   "outputs": [],
   "source": [
    "class Order:\n",
    "    def __init__(self, customer, cart, promotion=None):\n",
    "        self.customer = customer\n",
    "        self.cart = list(cart)\n",
    "        self.promotion = promotion\n",
    "        \n",
    "    def total(self):\n",
    "        if not hasattr(self, '_total'):\n",
    "            self._total = sum(item.total() for item in self.cart)\n",
    "        return self._total\n",
    "    \n",
    "    def due(self):\n",
    "        if self.promotion is None:\n",
    "            discount = 0\n",
    "        else:\n",
    "            discount = self.promotion(self)\n",
    "        return self.total() - discount\n",
    "    \n",
    "    def __repr__(self):\n",
    "        fmt = 'Order total: {:.2f} due: {:.2f}'\n",
    "        return fmt.format(self.total(), self.due())"
   ]
  },
  {
   "cell_type": "markdown",
   "id": "ca66cb6d",
   "metadata": {},
   "source": [
    "### `Concrete` strategies"
   ]
  },
  {
   "cell_type": "code",
   "execution_count": 18,
   "id": "10fad1b2",
   "metadata": {},
   "outputs": [],
   "source": [
    "def fidelity_promo(order):\n",
    "    return order.total() * 0.05 if order.customer.fidelity >= 1000 else 0"
   ]
  },
  {
   "cell_type": "code",
   "execution_count": 19,
   "id": "ecbe23c4",
   "metadata": {},
   "outputs": [],
   "source": [
    "def bulk_item_promo(order):\n",
    "    discount = 0\n",
    "    for item in order.cart:\n",
    "        if item.quantity >= 20:\n",
    "            discount += item.total() * 0.1\n",
    "    return discount"
   ]
  },
  {
   "cell_type": "code",
   "execution_count": 20,
   "id": "9a595da6",
   "metadata": {},
   "outputs": [],
   "source": [
    "def large_order_promo(order):\n",
    "    distinct_items = {item.product for item in order.cart}\n",
    "    if len(distinct_items) >= 10:\n",
    "        return order.total() * 0.07\n",
    "    return 0"
   ]
  },
  {
   "cell_type": "markdown",
   "id": "3ddc554f",
   "metadata": {},
   "source": [
    "### Testing"
   ]
  },
  {
   "cell_type": "code",
   "execution_count": 21,
   "id": "c976d7c0",
   "metadata": {},
   "outputs": [],
   "source": [
    "joe = Customer('John Doe', 0)\n",
    "ann = Customer('Ann Smith', 1100)"
   ]
  },
  {
   "cell_type": "code",
   "execution_count": 22,
   "id": "eccb4493",
   "metadata": {},
   "outputs": [],
   "source": [
    "cart = [LineItem('banana', 4, 0.5),\n",
    "        LineItem('apple', 10, 1.5),\n",
    "        LineItem('watermellon', 5, 5.0)]"
   ]
  },
  {
   "cell_type": "code",
   "execution_count": 23,
   "id": "124234c3",
   "metadata": {},
   "outputs": [
    {
     "data": {
      "text/plain": [
       "Order total: 42.00 due: 42.00"
      ]
     },
     "execution_count": 23,
     "metadata": {},
     "output_type": "execute_result"
    }
   ],
   "source": [
    "Order(joe, cart, fidelity_promo)"
   ]
  },
  {
   "cell_type": "code",
   "execution_count": 24,
   "id": "c2ba5d7d",
   "metadata": {},
   "outputs": [
    {
     "data": {
      "text/plain": [
       "Order total: 42.00 due: 39.90"
      ]
     },
     "execution_count": 24,
     "metadata": {},
     "output_type": "execute_result"
    }
   ],
   "source": [
    "Order(ann, cart, fidelity_promo)"
   ]
  },
  {
   "cell_type": "code",
   "execution_count": 25,
   "id": "10d5db05",
   "metadata": {},
   "outputs": [],
   "source": [
    "banana_cart = [LineItem('banana', 30, 0.5),\n",
    "               LineItem('apple', 10, 1.5)]"
   ]
  },
  {
   "cell_type": "code",
   "execution_count": 26,
   "id": "5b2593e9",
   "metadata": {},
   "outputs": [
    {
     "data": {
      "text/plain": [
       "Order total: 30.00 due: 28.50"
      ]
     },
     "execution_count": 26,
     "metadata": {},
     "output_type": "execute_result"
    }
   ],
   "source": [
    "Order(joe, banana_cart, bulk_item_promo)"
   ]
  },
  {
   "cell_type": "code",
   "execution_count": 27,
   "id": "68bfe038",
   "metadata": {},
   "outputs": [],
   "source": [
    "long_order = [LineItem(str(item_code), 1, 1.0)\n",
    "              for item_code in range(10)]"
   ]
  },
  {
   "cell_type": "code",
   "execution_count": 28,
   "id": "e55c02d2",
   "metadata": {},
   "outputs": [
    {
     "data": {
      "text/plain": [
       "Order total: 10.00 due: 9.30"
      ]
     },
     "execution_count": 28,
     "metadata": {},
     "output_type": "execute_result"
    }
   ],
   "source": [
    "Order(joe, long_order, large_order_promo)"
   ]
  },
  {
   "cell_type": "code",
   "execution_count": 29,
   "id": "5f6d8756",
   "metadata": {},
   "outputs": [
    {
     "data": {
      "text/plain": [
       "Order total: 42.00 due: 42.00"
      ]
     },
     "execution_count": 29,
     "metadata": {},
     "output_type": "execute_result"
    }
   ],
   "source": [
    "Order(joe, cart, large_order_promo)"
   ]
  },
  {
   "cell_type": "markdown",
   "id": "1f845e22",
   "metadata": {},
   "source": [
    "### Choosing the best strategy"
   ]
  },
  {
   "cell_type": "code",
   "execution_count": 30,
   "id": "37919db7",
   "metadata": {},
   "outputs": [],
   "source": [
    "promos = ['fidelity_promo', 'bulk_item_promo', 'large_order_promo']\n",
    "\n",
    "def best_promo(order):\n",
    "    '''Select the best discount availbale'''\n",
    "    return max(promo(order) for promo in promos)"
   ]
  }
 ],
 "metadata": {
  "kernelspec": {
   "display_name": "Python 3",
   "language": "python",
   "name": "python3"
  },
  "language_info": {
   "codemirror_mode": {
    "name": "ipython",
    "version": 3
   },
   "file_extension": ".py",
   "mimetype": "text/x-python",
   "name": "python",
   "nbconvert_exporter": "python",
   "pygments_lexer": "ipython3",
   "version": "3.8.8"
  }
 },
 "nbformat": 4,
 "nbformat_minor": 5
}
