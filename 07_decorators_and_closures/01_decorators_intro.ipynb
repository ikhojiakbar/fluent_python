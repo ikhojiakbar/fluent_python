{
 "cells": [
  {
   "cell_type": "markdown",
   "id": "8c34a4a9",
   "metadata": {},
   "source": [
    "# Decorators 101"
   ]
  },
  {
   "cell_type": "code",
   "execution_count": 1,
   "id": "bf4646aa",
   "metadata": {},
   "outputs": [],
   "source": [
    "def decorator(function):\n",
    "    def decorated():\n",
    "        print('Running decorated function')\n",
    "    return decorated"
   ]
  },
  {
   "cell_type": "code",
   "execution_count": 2,
   "id": "14b44107",
   "metadata": {},
   "outputs": [
    {
     "name": "stdout",
     "output_type": "stream",
     "text": [
      "Running decorated function\n"
     ]
    }
   ],
   "source": [
    "@decorator\n",
    "def target():\n",
    "    print('Running target!')\n",
    "    \n",
    "target()"
   ]
  },
  {
   "cell_type": "code",
   "execution_count": 3,
   "id": "32fc318c",
   "metadata": {},
   "outputs": [
    {
     "data": {
      "text/plain": [
       "<function __main__.decorator.<locals>.decorated()>"
      ]
     },
     "execution_count": 3,
     "metadata": {},
     "output_type": "execute_result"
    }
   ],
   "source": [
    "target"
   ]
  },
  {
   "cell_type": "markdown",
   "id": "4be80430",
   "metadata": {},
   "source": [
    "# When Python Executes Decorators"
   ]
  },
  {
   "cell_type": "code",
   "execution_count": 4,
   "id": "a8742874",
   "metadata": {},
   "outputs": [],
   "source": [
    "registry= []\n",
    "\n",
    "def register(function):\n",
    "    print('Running register: %s' % function)\n",
    "    registry.append(function)\n",
    "    return function"
   ]
  },
  {
   "cell_type": "code",
   "execution_count": 5,
   "id": "b6532f84",
   "metadata": {},
   "outputs": [
    {
     "name": "stdout",
     "output_type": "stream",
     "text": [
      "Running register: <function f1 at 0x000001E7981525E0>\n"
     ]
    }
   ],
   "source": [
    "@register\n",
    "def f1():\n",
    "    print('Running F1')"
   ]
  },
  {
   "cell_type": "code",
   "execution_count": 6,
   "id": "c98b8c95",
   "metadata": {},
   "outputs": [
    {
     "name": "stdout",
     "output_type": "stream",
     "text": [
      "Running register: <function f2 at 0x000001E798187040>\n"
     ]
    }
   ],
   "source": [
    "@register\n",
    "def f2():\n",
    "    print('Running F2')"
   ]
  },
  {
   "cell_type": "code",
   "execution_count": 7,
   "id": "4551d69f",
   "metadata": {},
   "outputs": [],
   "source": [
    "def f3():\n",
    "    print('Running F3')"
   ]
  },
  {
   "cell_type": "code",
   "execution_count": 8,
   "id": "eed64651",
   "metadata": {},
   "outputs": [],
   "source": [
    "def main():\n",
    "    print('Running main!')\n",
    "    print('Registry:', registry)\n",
    "    f1()\n",
    "    f2()\n",
    "    f3()"
   ]
  },
  {
   "cell_type": "code",
   "execution_count": 9,
   "id": "b51ea38c",
   "metadata": {},
   "outputs": [
    {
     "name": "stdout",
     "output_type": "stream",
     "text": [
      "Running main!\n",
      "Registry: [<function f1 at 0x000001E7981525E0>, <function f2 at 0x000001E798187040>]\n",
      "Running F1\n",
      "Running F2\n",
      "Running F3\n"
     ]
    }
   ],
   "source": [
    "if __name__ == '__main__':\n",
    "    main()"
   ]
  }
 ],
 "metadata": {
  "kernelspec": {
   "display_name": "Python 3",
   "language": "python",
   "name": "python3"
  },
  "language_info": {
   "codemirror_mode": {
    "name": "ipython",
    "version": 3
   },
   "file_extension": ".py",
   "mimetype": "text/x-python",
   "name": "python",
   "nbconvert_exporter": "python",
   "pygments_lexer": "ipython3",
   "version": "3.8.8"
  }
 },
 "nbformat": 4,
 "nbformat_minor": 5
}
