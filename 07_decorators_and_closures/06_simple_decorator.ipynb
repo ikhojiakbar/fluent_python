{
 "cells": [
  {
   "cell_type": "markdown",
   "id": "7574424b",
   "metadata": {},
   "source": [
    "# Implementing a Simple Decorator"
   ]
  },
  {
   "cell_type": "code",
   "execution_count": 1,
   "id": "59cdc95a",
   "metadata": {},
   "outputs": [],
   "source": [
    "import time\n",
    "\n",
    "def clock(function):\n",
    "    def clocked(*args):\n",
    "        t_0 = time.perf_counter()\n",
    "        result = function(*args)\n",
    "        elapsed = time.perf_counter() - t_0\n",
    "        name = function.__name__\n",
    "        arg_str = ', '.join(repr(arg) for arg in args)\n",
    "        print('[%0.8fs] %s(%s) -> %r' % (elapsed, name, arg_str, result))\n",
    "        return result\n",
    "    return clocked"
   ]
  },
  {
   "cell_type": "code",
   "execution_count": 2,
   "id": "e47b04dd",
   "metadata": {},
   "outputs": [],
   "source": [
    "@clock\n",
    "def snooze(seconds):\n",
    "    time.sleep(seconds)"
   ]
  },
  {
   "cell_type": "code",
   "execution_count": 3,
   "id": "259ee9af",
   "metadata": {},
   "outputs": [],
   "source": [
    "@clock\n",
    "def factorial(n):\n",
    "    return 1 if n < 2 else n * factorial(n-1)"
   ]
  },
  {
   "cell_type": "code",
   "execution_count": 4,
   "id": "1ab25148",
   "metadata": {},
   "outputs": [
    {
     "name": "stdout",
     "output_type": "stream",
     "text": [
      "**************************************** Calling snooze(0.123)\n",
      "[0.12447570s] snooze(0.123) -> None\n",
      "**************************************** Calling factorial(6)\n",
      "[0.00000180s] factorial(1) -> 1\n",
      "[0.00007040s] factorial(2) -> 2\n",
      "[0.00012140s] factorial(3) -> 6\n",
      "[0.00017870s] factorial(4) -> 24\n",
      "[0.00135770s] factorial(5) -> 120\n",
      "[0.00150560s] factorial(6) -> 720\n",
      "6! = 720\n"
     ]
    }
   ],
   "source": [
    "if __name__ == '__main__':\n",
    "    print('*' * 40, 'Calling snooze(0.123)')\n",
    "    snooze(0.123)\n",
    "    print('*' * 40, 'Calling factorial(6)')\n",
    "    print('6! =', factorial(6))"
   ]
  }
 ],
 "metadata": {
  "kernelspec": {
   "display_name": "Python 3",
   "language": "python",
   "name": "python3"
  },
  "language_info": {
   "codemirror_mode": {
    "name": "ipython",
    "version": 3
   },
   "file_extension": ".py",
   "mimetype": "text/x-python",
   "name": "python",
   "nbconvert_exporter": "python",
   "pygments_lexer": "ipython3",
   "version": "3.8.8"
  }
 },
 "nbformat": 4,
 "nbformat_minor": 5
}
