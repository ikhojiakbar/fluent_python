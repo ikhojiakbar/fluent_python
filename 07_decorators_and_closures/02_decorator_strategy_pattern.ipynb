{
 "cells": [
  {
   "cell_type": "markdown",
   "id": "059b7b76",
   "metadata": {},
   "source": [
    "# Decorator-Enhanced Strategy Pattern"
   ]
  },
  {
   "cell_type": "code",
   "execution_count": 1,
   "id": "c7083d6c",
   "metadata": {},
   "outputs": [],
   "source": [
    "promos = []\n",
    "\n",
    "def promotion(promo_function):\n",
    "    promos.append(promo_function)\n",
    "    return promo_function"
   ]
  },
  {
   "cell_type": "code",
   "execution_count": 3,
   "id": "ab9df55c",
   "metadata": {},
   "outputs": [],
   "source": [
    "@promotion\n",
    "def fidelity(order):\n",
    "    return order.total() * 0.05 if order.customer.fidelity >= 1000 else 0"
   ]
  },
  {
   "cell_type": "code",
   "execution_count": 4,
   "id": "f960d32f",
   "metadata": {},
   "outputs": [],
   "source": [
    "@promotion\n",
    "def bulk_item(order):\n",
    "    discount = 0\n",
    "    for item in order.cart:\n",
    "        if item.quantity >= 20:\n",
    "            discount += item.total() * 0.1\n",
    "    return discount"
   ]
  },
  {
   "cell_type": "code",
   "execution_count": 5,
   "id": "c7e29714",
   "metadata": {},
   "outputs": [],
   "source": [
    "@promotion\n",
    "def large_order(order):\n",
    "    distinct_items = {item.product for item in order.cart}\n",
    "    if len(distinct_items) >= 10:\n",
    "        return order.total() * 0.07\n",
    "    return 0"
   ]
  },
  {
   "cell_type": "code",
   "execution_count": 6,
   "id": "cebdce20",
   "metadata": {},
   "outputs": [],
   "source": [
    "def best_promo(order):\n",
    "    return max(promo(order) for promo in promos)"
   ]
  }
 ],
 "metadata": {
  "kernelspec": {
   "display_name": "Python 3",
   "language": "python",
   "name": "python3"
  },
  "language_info": {
   "codemirror_mode": {
    "name": "ipython",
    "version": 3
   },
   "file_extension": ".py",
   "mimetype": "text/x-python",
   "name": "python",
   "nbconvert_exporter": "python",
   "pygments_lexer": "ipython3",
   "version": "3.8.8"
  }
 },
 "nbformat": 4,
 "nbformat_minor": 5
}
