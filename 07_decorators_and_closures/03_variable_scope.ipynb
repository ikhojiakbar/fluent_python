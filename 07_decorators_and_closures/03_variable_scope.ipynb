{
 "cells": [
  {
   "cell_type": "markdown",
   "id": "7a7903b7",
   "metadata": {},
   "source": [
    "# Variable Scope Rules"
   ]
  },
  {
   "cell_type": "code",
   "execution_count": 1,
   "id": "0cb608b9",
   "metadata": {},
   "outputs": [],
   "source": [
    "def function_1(a):\n",
    "    print(a)\n",
    "    print(b)"
   ]
  },
  {
   "cell_type": "code",
   "execution_count": 2,
   "id": "8d0648ce",
   "metadata": {},
   "outputs": [
    {
     "name": "stdout",
     "output_type": "stream",
     "text": [
      "3\n",
      "6\n"
     ]
    }
   ],
   "source": [
    "b = 6\n",
    "function_1(3)"
   ]
  },
  {
   "cell_type": "code",
   "execution_count": 3,
   "id": "9525d585",
   "metadata": {},
   "outputs": [
    {
     "data": {
      "text/plain": [
       "300"
      ]
     },
     "execution_count": 3,
     "metadata": {},
     "output_type": "execute_result"
    }
   ],
   "source": [
    "b = 100\n",
    "\n",
    "def add(a):\n",
    "    return a + b\n",
    "\n",
    "add(200)"
   ]
  },
  {
   "cell_type": "markdown",
   "id": "46dbf7db",
   "metadata": {},
   "source": [
    "### `global`"
   ]
  },
  {
   "cell_type": "code",
   "execution_count": 4,
   "id": "d007dadd",
   "metadata": {},
   "outputs": [],
   "source": [
    "b = 250\n",
    "\n",
    "def function(a):\n",
    "    global b\n",
    "    print(a)\n",
    "    print(b)  #250 because of global\n",
    "    b = 9"
   ]
  },
  {
   "cell_type": "code",
   "execution_count": 5,
   "id": "a3b27a65",
   "metadata": {},
   "outputs": [
    {
     "name": "stdout",
     "output_type": "stream",
     "text": [
      "150\n",
      "250\n"
     ]
    }
   ],
   "source": [
    "function(150)"
   ]
  },
  {
   "cell_type": "code",
   "execution_count": 6,
   "id": "3949ed91",
   "metadata": {},
   "outputs": [
    {
     "data": {
      "text/plain": [
       "9"
      ]
     },
     "execution_count": 6,
     "metadata": {},
     "output_type": "execute_result"
    }
   ],
   "source": [
    "b"
   ]
  }
 ],
 "metadata": {
  "kernelspec": {
   "display_name": "Python 3",
   "language": "python",
   "name": "python3"
  },
  "language_info": {
   "codemirror_mode": {
    "name": "ipython",
    "version": 3
   },
   "file_extension": ".py",
   "mimetype": "text/x-python",
   "name": "python",
   "nbconvert_exporter": "python",
   "pygments_lexer": "ipython3",
   "version": "3.8.8"
  }
 },
 "nbformat": 4,
 "nbformat_minor": 5
}
