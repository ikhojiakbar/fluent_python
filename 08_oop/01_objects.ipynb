{
 "cells": [
  {
   "cell_type": "markdown",
   "id": "0e6ab723",
   "metadata": {},
   "source": [
    "# Variables Are Not Boxes"
   ]
  },
  {
   "cell_type": "code",
   "execution_count": 1,
   "id": "9930c8a0",
   "metadata": {},
   "outputs": [
    {
     "data": {
      "text/plain": [
       "[1, 2, 3, 4]"
      ]
     },
     "execution_count": 1,
     "metadata": {},
     "output_type": "execute_result"
    }
   ],
   "source": [
    "a = [1, 2, 3]\n",
    "b = a\n",
    "a.append(4)\n",
    "b"
   ]
  },
  {
   "cell_type": "code",
   "execution_count": 2,
   "id": "ef0d61eb",
   "metadata": {},
   "outputs": [],
   "source": [
    "class Gizmo():\n",
    "    def __init__(self):\n",
    "        print('Gizmo id: %id' % id(self))"
   ]
  },
  {
   "cell_type": "code",
   "execution_count": 3,
   "id": "530d6427",
   "metadata": {},
   "outputs": [
    {
     "name": "stdout",
     "output_type": "stream",
     "text": [
      "Gizmo id: 2171384400240d\n"
     ]
    },
    {
     "data": {
      "text/plain": [
       "<__main__.Gizmo at 0x1f990988970>"
      ]
     },
     "execution_count": 3,
     "metadata": {},
     "output_type": "execute_result"
    }
   ],
   "source": [
    "x = Gizmo()\n",
    "x"
   ]
  },
  {
   "cell_type": "markdown",
   "id": "bcfd00eb",
   "metadata": {},
   "source": [
    "# Identity, Equality, and Aliases"
   ]
  },
  {
   "cell_type": "code",
   "execution_count": 4,
   "id": "a7ba33a7",
   "metadata": {},
   "outputs": [
    {
     "data": {
      "text/plain": [
       "True"
      ]
     },
     "execution_count": 4,
     "metadata": {},
     "output_type": "execute_result"
    }
   ],
   "source": [
    "khojiakbar = {'name': 'Khojiakbar Isomiddinov', 'born': 2000}\n",
    "khoji = khojiakbar\n",
    "khoji is khojiakbar"
   ]
  },
  {
   "cell_type": "code",
   "execution_count": 5,
   "id": "65c1b932",
   "metadata": {},
   "outputs": [
    {
     "data": {
      "text/plain": [
       "(2171384189824, 2171384189824)"
      ]
     },
     "execution_count": 5,
     "metadata": {},
     "output_type": "execute_result"
    }
   ],
   "source": [
    "#'khoji' is aliases for 'khojiakbar'\n",
    "id(khoji), id(khojiakbar)"
   ]
  },
  {
   "cell_type": "code",
   "execution_count": 6,
   "id": "a94a485e",
   "metadata": {},
   "outputs": [
    {
     "data": {
      "text/plain": [
       "{'name': 'Khojiakbar Isomiddinov', 'born': 2000, 'balance': 950}"
      ]
     },
     "execution_count": 6,
     "metadata": {},
     "output_type": "execute_result"
    }
   ],
   "source": [
    "khoji['balance'] = 950\n",
    "khojiakbar"
   ]
  },
  {
   "cell_type": "code",
   "execution_count": 7,
   "id": "83d23743",
   "metadata": {},
   "outputs": [],
   "source": [
    "# a new separate object\n",
    "alex = {'name': 'Khojiakbar Isomiddinov', 'born': 2000, 'balance': 950}"
   ]
  },
  {
   "cell_type": "code",
   "execution_count": 8,
   "id": "d32610c9",
   "metadata": {},
   "outputs": [
    {
     "data": {
      "text/plain": [
       "True"
      ]
     },
     "execution_count": 8,
     "metadata": {},
     "output_type": "execute_result"
    }
   ],
   "source": [
    "#check for \n",
    "alex == khojiakbar"
   ]
  },
  {
   "cell_type": "code",
   "execution_count": 9,
   "id": "2a5e5445",
   "metadata": {},
   "outputs": [
    {
     "data": {
      "text/plain": [
       "False"
      ]
     },
     "execution_count": 9,
     "metadata": {},
     "output_type": "execute_result"
    }
   ],
   "source": [
    "#check for the same object\n",
    "alex is khojiakbar"
   ]
  },
  {
   "cell_type": "markdown",
   "id": "26190007",
   "metadata": {},
   "source": [
    "## 1. The Relative Immutability of Tuples"
   ]
  },
  {
   "cell_type": "code",
   "execution_count": 10,
   "id": "e1737faa",
   "metadata": {},
   "outputs": [
    {
     "data": {
      "text/plain": [
       "True"
      ]
     },
     "execution_count": 10,
     "metadata": {},
     "output_type": "execute_result"
    }
   ],
   "source": [
    "t1 = (1, 2, [30, 40])\n",
    "t2 = (1, 2, [30, 40])\n",
    "\n",
    "#equality check\n",
    "t1 == t2"
   ]
  },
  {
   "cell_type": "code",
   "execution_count": 11,
   "id": "ee5ac08f",
   "metadata": {},
   "outputs": [
    {
     "data": {
      "text/plain": [
       "2171384146368"
      ]
     },
     "execution_count": 11,
     "metadata": {},
     "output_type": "execute_result"
    }
   ],
   "source": [
    "id(t1[-1])"
   ]
  },
  {
   "cell_type": "code",
   "execution_count": 12,
   "id": "d2564e15",
   "metadata": {},
   "outputs": [
    {
     "data": {
      "text/plain": [
       "(1, 2, [30, 40, 99])"
      ]
     },
     "execution_count": 12,
     "metadata": {},
     "output_type": "execute_result"
    }
   ],
   "source": [
    "t1[-1].append(99)\n",
    "t1"
   ]
  },
  {
   "cell_type": "code",
   "execution_count": 13,
   "id": "c276b2e2",
   "metadata": {},
   "outputs": [
    {
     "data": {
      "text/plain": [
       "2171384146368"
      ]
     },
     "execution_count": 13,
     "metadata": {},
     "output_type": "execute_result"
    }
   ],
   "source": [
    "#no change on the item identiy\n",
    "id(t1[-1])"
   ]
  },
  {
   "cell_type": "code",
   "execution_count": 14,
   "id": "ea2477de",
   "metadata": {},
   "outputs": [
    {
     "data": {
      "text/plain": [
       "False"
      ]
     },
     "execution_count": 14,
     "metadata": {},
     "output_type": "execute_result"
    }
   ],
   "source": [
    "#value equality check\n",
    "t1 == t2"
   ]
  }
 ],
 "metadata": {
  "kernelspec": {
   "display_name": "Python 3",
   "language": "python",
   "name": "python3"
  },
  "language_info": {
   "codemirror_mode": {
    "name": "ipython",
    "version": 3
   },
   "file_extension": ".py",
   "mimetype": "text/x-python",
   "name": "python",
   "nbconvert_exporter": "python",
   "pygments_lexer": "ipython3",
   "version": "3.8.8"
  }
 },
 "nbformat": 4,
 "nbformat_minor": 5
}
