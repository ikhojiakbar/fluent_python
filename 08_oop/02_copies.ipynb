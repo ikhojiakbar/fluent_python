{
 "cells": [
  {
   "cell_type": "markdown",
   "id": "f9b8ad2e",
   "metadata": {},
   "source": [
    "# Copies Are Shallow by Default"
   ]
  },
  {
   "cell_type": "code",
   "execution_count": 1,
   "id": "ba74aef3",
   "metadata": {},
   "outputs": [],
   "source": [
    "l1 = [3, [44, 55], (7, 8, 9)]\n",
    "l2 = list(l1)    #list(l1) creates a copy of l1 => different identity"
   ]
  },
  {
   "cell_type": "code",
   "execution_count": 2,
   "id": "b42a8eeb",
   "metadata": {},
   "outputs": [
    {
     "data": {
      "text/plain": [
       "[3, [44, 55], (7, 8, 9)]"
      ]
     },
     "execution_count": 2,
     "metadata": {},
     "output_type": "execute_result"
    }
   ],
   "source": [
    "l2"
   ]
  },
  {
   "cell_type": "code",
   "execution_count": 3,
   "id": "2fa09aa3",
   "metadata": {},
   "outputs": [
    {
     "data": {
      "text/plain": [
       "True"
      ]
     },
     "execution_count": 3,
     "metadata": {},
     "output_type": "execute_result"
    }
   ],
   "source": [
    "l1 == l2"
   ]
  },
  {
   "cell_type": "code",
   "execution_count": 4,
   "id": "b4dbfc0a",
   "metadata": {},
   "outputs": [
    {
     "data": {
      "text/plain": [
       "False"
      ]
     },
     "execution_count": 4,
     "metadata": {},
     "output_type": "execute_result"
    }
   ],
   "source": [
    "l1 is l2"
   ]
  },
  {
   "cell_type": "markdown",
   "id": "74f131cb",
   "metadata": {},
   "source": [
    "## 1. Shallow copy"
   ]
  },
  {
   "cell_type": "code",
   "execution_count": 5,
   "id": "7f3e2277",
   "metadata": {},
   "outputs": [],
   "source": [
    "l1 = [3, [66, 55, 44], (7, 8, 9)]\n",
    "l2 = list(l1)"
   ]
  },
  {
   "cell_type": "code",
   "execution_count": 6,
   "id": "18228571",
   "metadata": {},
   "outputs": [],
   "source": [
    "l1.append(100)\n",
    "l1[1].remove(55)"
   ]
  },
  {
   "cell_type": "code",
   "execution_count": 7,
   "id": "b0a670f1",
   "metadata": {},
   "outputs": [
    {
     "name": "stdout",
     "output_type": "stream",
     "text": [
      "l1: [3, [66, 44], (7, 8, 9), 100]\n",
      "l2: [3, [66, 44], (7, 8, 9)]\n"
     ]
    }
   ],
   "source": [
    "print('l1:', l1)\n",
    "print('l2:', l2)"
   ]
  },
  {
   "cell_type": "code",
   "execution_count": 8,
   "id": "6178ae41",
   "metadata": {},
   "outputs": [],
   "source": [
    "l2[1] += [33, 22]\n",
    "l2[2] += (10, 11)"
   ]
  },
  {
   "cell_type": "code",
   "execution_count": 9,
   "id": "9b1ff2f5",
   "metadata": {},
   "outputs": [
    {
     "name": "stdout",
     "output_type": "stream",
     "text": [
      "l1: [3, [66, 44, 33, 22], (7, 8, 9), 100]\n",
      "l2: [3, [66, 44, 33, 22], (7, 8, 9, 10, 11)]\n"
     ]
    }
   ],
   "source": [
    "print('l1:', l1)\n",
    "print('l2:', l2)"
   ]
  },
  {
   "cell_type": "markdown",
   "id": "b401a4a5",
   "metadata": {},
   "source": [
    "## 2. Deep copy"
   ]
  },
  {
   "cell_type": "code",
   "execution_count": 10,
   "id": "4b0b56a2",
   "metadata": {},
   "outputs": [],
   "source": [
    "class Bus:\n",
    "    def __init__(self, passengers=None):\n",
    "        if passengers == None:\n",
    "            self.passengers = []\n",
    "        else:\n",
    "            self.passengers = list(passengers)\n",
    "            \n",
    "    def pick(self, name):\n",
    "        self.passengers.append(name)\n",
    "        \n",
    "    def drop(self, name):\n",
    "        self.passengers.remove(name)"
   ]
  },
  {
   "cell_type": "code",
   "execution_count": 11,
   "id": "74c23b2b",
   "metadata": {},
   "outputs": [],
   "source": [
    "#bus_1 = object instance\n",
    "#bus_2 = shallow copy\n",
    "#bus_3 = deepcopy"
   ]
  },
  {
   "cell_type": "code",
   "execution_count": 12,
   "id": "06893647",
   "metadata": {},
   "outputs": [],
   "source": [
    "import copy\n",
    "\n",
    "bus_1 = Bus(['Alice', 'Bob', 'Caroline', 'David'])\n",
    "bus_2 = copy.copy(bus_1)\n",
    "bus_3 = copy.deepcopy(bus_1)"
   ]
  },
  {
   "cell_type": "code",
   "execution_count": 13,
   "id": "e2f017cc",
   "metadata": {},
   "outputs": [
    {
     "data": {
      "text/plain": [
       "(2700025123360, 2700025123072, 2700025123936)"
      ]
     },
     "execution_count": 13,
     "metadata": {},
     "output_type": "execute_result"
    }
   ],
   "source": [
    "#as expected copies create different objects\n",
    "id(bus_1), id(bus_2), id(bus_3)"
   ]
  },
  {
   "cell_type": "code",
   "execution_count": 14,
   "id": "50bc2cab",
   "metadata": {},
   "outputs": [],
   "source": [
    "bus_1.drop('Bob')"
   ]
  },
  {
   "cell_type": "code",
   "execution_count": 15,
   "id": "40ae3005",
   "metadata": {},
   "outputs": [
    {
     "data": {
      "text/plain": [
       "['Alice', 'Caroline', 'David']"
      ]
     },
     "execution_count": 15,
     "metadata": {},
     "output_type": "execute_result"
    }
   ],
   "source": [
    "bus_2.passengers\n",
    "#shallow copy directly affected by origin => why? => shallow"
   ]
  },
  {
   "cell_type": "code",
   "execution_count": 16,
   "id": "8e95d6fb",
   "metadata": {},
   "outputs": [
    {
     "data": {
      "text/plain": [
       "['Alice', 'Bob', 'Caroline', 'David']"
      ]
     },
     "execution_count": 16,
     "metadata": {},
     "output_type": "execute_result"
    }
   ],
   "source": [
    "bus_3.passengers\n",
    "#changes on original copy do not affect on deepcopy"
   ]
  },
  {
   "cell_type": "code",
   "execution_count": 17,
   "id": "9ec3d511",
   "metadata": {},
   "outputs": [
    {
     "data": {
      "text/plain": [
       "(2700025131584, 2700025131584, 2700024538944)"
      ]
     },
     "execution_count": 17,
     "metadata": {},
     "output_type": "execute_result"
    }
   ],
   "source": [
    "#bus_2 = shallow copy values' identity are the same\n",
    "#bus_3 differs\n",
    "id(bus_1.passengers), id(bus_2.passengers), id(bus_3.passengers)"
   ]
  }
 ],
 "metadata": {
  "kernelspec": {
   "display_name": "Python 3",
   "language": "python",
   "name": "python3"
  },
  "language_info": {
   "codemirror_mode": {
    "name": "ipython",
    "version": 3
   },
   "file_extension": ".py",
   "mimetype": "text/x-python",
   "name": "python",
   "nbconvert_exporter": "python",
   "pygments_lexer": "ipython3",
   "version": "3.8.8"
  }
 },
 "nbformat": 4,
 "nbformat_minor": 5
}
