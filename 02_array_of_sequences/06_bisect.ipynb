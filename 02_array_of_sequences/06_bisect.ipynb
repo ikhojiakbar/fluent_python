{
 "cells": [
  {
   "cell_type": "markdown",
   "id": "b05473e2",
   "metadata": {},
   "source": [
    "# Managing Ordered(Sorted) Sequences with `bisect`"
   ]
  },
  {
   "cell_type": "markdown",
   "id": "86cded21",
   "metadata": {},
   "source": [
    "## 1. Searching"
   ]
  },
  {
   "cell_type": "code",
   "execution_count": 1,
   "id": "4a747a5b",
   "metadata": {},
   "outputs": [
    {
     "name": "stdout",
     "output_type": "stream",
     "text": [
      "DEMO: bisect_right\n",
      "HAYSTACK =>  1 4 5 6 8121520212323262930\n",
      "31 @ 14     |  |  |  |  |  |  |  |  |  |  |  |  |  |31\n",
      "30 @ 14     |  |  |  |  |  |  |  |  |  |  |  |  |  |30\n",
      "29 @ 13     |  |  |  |  |  |  |  |  |  |  |  |  |29\n",
      "23 @ 11     |  |  |  |  |  |  |  |  |  |  |23\n",
      "22 @  9     |  |  |  |  |  |  |  |  |22\n",
      "10 @  5     |  |  |  |  |10\n",
      " 8 @  5     |  |  |  |  |8 \n",
      " 5 @  3     |  |  |5 \n",
      " 2 @  1     |2 \n",
      " 1 @  1     |1 \n",
      " 0 @  0   0 \n"
     ]
    }
   ],
   "source": [
    "import sys\n",
    "import bisect\n",
    "\n",
    "HAYSTACK = [1, 4, 5, 6, 8, 12, 15, 20, 21, 23, 23, 26, 29, 30]\n",
    "NEEDLES = [0, 1, 2, 5, 8, 10, 22, 23, 29, 30, 31]\n",
    "\n",
    "ROW_FMT = '{0:2d} @ {1:2d}   {2}{0:<2d}'\n",
    "\n",
    "def demo(bisect_function):\n",
    "    for needle in reversed(NEEDLES):\n",
    "        position = bisect_function(HAYSTACK, needle)\n",
    "        offset = position * '  |'\n",
    "        print(ROW_FMT.format(needle, position, offset))\n",
    "        \n",
    "if __name__ == '__main__':\n",
    "    if sys.argv[-1] == 'left':\n",
    "        bisect_function = bisect.bisect_left\n",
    "    else:\n",
    "        bisect_function = bisect.bisect\n",
    "        \n",
    "print('DEMO:', bisect_function.__name__)\n",
    "print('HAYSTACK =>', ''.join('%2d' % n for n in HAYSTACK))\n",
    "\n",
    "demo(bisect_function)"
   ]
  },
  {
   "cell_type": "code",
   "execution_count": 2,
   "id": "2d4d89cb",
   "metadata": {},
   "outputs": [
    {
     "data": {
      "text/plain": [
       "['F', 'A', 'C', 'C', 'B', 'A', 'A']"
      ]
     },
     "execution_count": 2,
     "metadata": {},
     "output_type": "execute_result"
    }
   ],
   "source": [
    "import bisect\n",
    "\n",
    "def grade(score, breakpoints=[60, 70, 80, 90], grades='FDCBA'):\n",
    "    i = bisect.bisect(breakpoints, score)\n",
    "    return grades[i]\n",
    "\n",
    "group = [grade(score) for score in [33, 99, 77, 70, 89, 90, 100]]\n",
    "group"
   ]
  },
  {
   "cell_type": "markdown",
   "id": "50b140f1",
   "metadata": {},
   "source": [
    "## 2. Inserting with bisect.insort"
   ]
  },
  {
   "cell_type": "code",
   "execution_count": 3,
   "id": "48530323",
   "metadata": {},
   "outputs": [
    {
     "name": "stdout",
     "output_type": "stream",
     "text": [
      "10 => [10]\n",
      " 0 => [0, 10]\n",
      " 6 => [0, 6, 10]\n",
      " 8 => [0, 6, 8, 10]\n",
      " 7 => [0, 6, 7, 8, 10]\n",
      " 2 => [0, 2, 6, 7, 8, 10]\n",
      "10 => [0, 2, 6, 7, 8, 10, 10]\n"
     ]
    }
   ],
   "source": [
    "import bisect\n",
    "import random\n",
    "\n",
    "SIZE = 7\n",
    "\n",
    "random.seed(1729)\n",
    "\n",
    "my_list = []\n",
    "\n",
    "for i in range(SIZE):\n",
    "    new_item = random.randrange(SIZE*2)\n",
    "    bisect.insort(my_list, new_item)\n",
    "    print('%2d =>' % new_item, my_list)"
   ]
  }
 ],
 "metadata": {
  "kernelspec": {
   "display_name": "Python 3",
   "language": "python",
   "name": "python3"
  },
  "language_info": {
   "codemirror_mode": {
    "name": "ipython",
    "version": 3
   },
   "file_extension": ".py",
   "mimetype": "text/x-python",
   "name": "python",
   "nbconvert_exporter": "python",
   "pygments_lexer": "ipython3",
   "version": "3.8.8"
  }
 },
 "nbformat": 4,
 "nbformat_minor": 5
}
