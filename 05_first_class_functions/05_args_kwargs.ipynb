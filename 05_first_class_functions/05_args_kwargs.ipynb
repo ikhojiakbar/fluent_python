{
 "cells": [
  {
   "cell_type": "markdown",
   "id": "371540aa",
   "metadata": {},
   "source": [
    "# Function Introspection"
   ]
  },
  {
   "cell_type": "code",
   "execution_count": 1,
   "id": "946aae1b",
   "metadata": {},
   "outputs": [
    {
     "data": {
      "text/plain": [
       "['__annotations__',\n",
       " '__call__',\n",
       " '__closure__',\n",
       " '__code__',\n",
       " '__defaults__',\n",
       " '__get__',\n",
       " '__globals__',\n",
       " '__kwdefaults__',\n",
       " '__name__',\n",
       " '__qualname__']"
      ]
     },
     "execution_count": 1,
     "metadata": {},
     "output_type": "execute_result"
    }
   ],
   "source": [
    "class C: pass\n",
    "object = C()\n",
    "\n",
    "def function(): pass\n",
    "\n",
    "#the difference of methods between function and user-defined object (class)\n",
    "sorted(set(dir(function)) - set(dir(object)))"
   ]
  },
  {
   "cell_type": "markdown",
   "id": "0ed9a0ec",
   "metadata": {},
   "source": [
    "# From Positional to Keyword-Only Parameters"
   ]
  },
  {
   "cell_type": "code",
   "execution_count": 2,
   "id": "d7070b49",
   "metadata": {},
   "outputs": [],
   "source": [
    "def tag(name, *args, klass=None, **kwargs):\n",
    "    '''Generate one/more HTML tags'''\n",
    "    \n",
    "    if klass is not None:\n",
    "        kwargs['class'] = klass\n",
    "        \n",
    "    if kwargs:\n",
    "        kwargs_str = ''.join(' %s=\"%s\"' % (key, value)\n",
    "                             for key, value in sorted(kwargs.items()))\n",
    "    else:\n",
    "        kwargs_str = ''\n",
    "        \n",
    "        \n",
    "    if args:\n",
    "        return '\\n'.join('<%s%s>%s</%s>' % (name, kwargs_str, a, name) for a in args)\n",
    "    else:\n",
    "        return '<%s%s />' % name, kwargs_str"
   ]
  },
  {
   "cell_type": "code",
   "execution_count": 3,
   "id": "112a5e5e",
   "metadata": {},
   "outputs": [
    {
     "data": {
      "text/plain": [
       "'<p>hello</p>'"
      ]
     },
     "execution_count": 3,
     "metadata": {},
     "output_type": "execute_result"
    }
   ],
   "source": [
    "tag('p', 'hello')"
   ]
  },
  {
   "cell_type": "code",
   "execution_count": 4,
   "id": "f945013a",
   "metadata": {},
   "outputs": [
    {
     "name": "stdout",
     "output_type": "stream",
     "text": [
      "<p>hello</p>\n",
      "<p>world</p>\n"
     ]
    }
   ],
   "source": [
    "print(tag('p', 'hello', 'world'))"
   ]
  },
  {
   "cell_type": "code",
   "execution_count": 5,
   "id": "b1139c0d",
   "metadata": {},
   "outputs": [
    {
     "data": {
      "text/plain": [
       "'<p id=\"33\">hello</p>'"
      ]
     },
     "execution_count": 5,
     "metadata": {},
     "output_type": "execute_result"
    }
   ],
   "source": [
    "tag('p', 'hello', id=33)"
   ]
  },
  {
   "cell_type": "code",
   "execution_count": 6,
   "id": "0651af9c",
   "metadata": {},
   "outputs": [
    {
     "name": "stdout",
     "output_type": "stream",
     "text": [
      "<p class=\"sidebar\">hello</p>\n",
      "<p class=\"sidebar\">world</p>\n"
     ]
    }
   ],
   "source": [
    "print(tag('p', 'hello', 'world', klass='sidebar'))"
   ]
  }
 ],
 "metadata": {
  "kernelspec": {
   "display_name": "Python 3",
   "language": "python",
   "name": "python3"
  },
  "language_info": {
   "codemirror_mode": {
    "name": "ipython",
    "version": 3
   },
   "file_extension": ".py",
   "mimetype": "text/x-python",
   "name": "python",
   "nbconvert_exporter": "python",
   "pygments_lexer": "ipython3",
   "version": "3.8.8"
  }
 },
 "nbformat": 4,
 "nbformat_minor": 5
}
