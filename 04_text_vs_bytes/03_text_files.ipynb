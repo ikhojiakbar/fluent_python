{
 "cells": [
  {
   "cell_type": "markdown",
   "id": "69032146",
   "metadata": {},
   "source": [
    "# Handling Text Files"
   ]
  },
  {
   "cell_type": "code",
   "execution_count": 1,
   "id": "56b4ae40",
   "metadata": {},
   "outputs": [
    {
     "data": {
      "text/plain": [
       "4"
      ]
     },
     "execution_count": 1,
     "metadata": {},
     "output_type": "execute_result"
    }
   ],
   "source": [
    "#don't rely on default encoders (utf-8)\n",
    "\n",
    "open('03_cafe.txt', 'w', encoding='utf-8').write('café')"
   ]
  },
  {
   "cell_type": "code",
   "execution_count": 2,
   "id": "407b1f73",
   "metadata": {},
   "outputs": [
    {
     "data": {
      "text/plain": [
       "'cafÃ©'"
      ]
     },
     "execution_count": 2,
     "metadata": {},
     "output_type": "execute_result"
    }
   ],
   "source": [
    "open('03_cafe.txt').read()"
   ]
  },
  {
   "cell_type": "markdown",
   "id": "b96e4a5e",
   "metadata": {},
   "source": [
    "## Windows `cp1252` vs Python `utf-8` issue"
   ]
  },
  {
   "cell_type": "code",
   "execution_count": 3,
   "id": "a9218582",
   "metadata": {},
   "outputs": [
    {
     "data": {
      "text/plain": [
       "<_io.TextIOWrapper name='03_1_cafe.txt' mode='w' encoding='utf-8'>"
      ]
     },
     "execution_count": 3,
     "metadata": {},
     "output_type": "execute_result"
    }
   ],
   "source": [
    "filepath = open('03_1_cafe.txt', 'w', encoding='utf-8')\n",
    "filepath"
   ]
  },
  {
   "cell_type": "code",
   "execution_count": 4,
   "id": "804eab5e",
   "metadata": {},
   "outputs": [
    {
     "data": {
      "text/plain": [
       "4"
      ]
     },
     "execution_count": 4,
     "metadata": {},
     "output_type": "execute_result"
    }
   ],
   "source": [
    "filepath.write('café')"
   ]
  },
  {
   "cell_type": "code",
   "execution_count": 5,
   "id": "21e00bf5",
   "metadata": {},
   "outputs": [],
   "source": [
    "filepath.close()"
   ]
  },
  {
   "cell_type": "code",
   "execution_count": 6,
   "id": "73ee5209",
   "metadata": {},
   "outputs": [
    {
     "data": {
      "text/plain": [
       "5"
      ]
     },
     "execution_count": 6,
     "metadata": {},
     "output_type": "execute_result"
    }
   ],
   "source": [
    "import os\n",
    "\n",
    "os.stat('03_1_cafe.txt').st_size"
   ]
  },
  {
   "cell_type": "code",
   "execution_count": 7,
   "id": "4a661434",
   "metadata": {},
   "outputs": [
    {
     "data": {
      "text/plain": [
       "<_io.TextIOWrapper name='03_1_cafe.txt' mode='r' encoding='cp1252'>"
      ]
     },
     "execution_count": 7,
     "metadata": {},
     "output_type": "execute_result"
    }
   ],
   "source": [
    "#windows decode the utf-8 encoded file in 'cp1252'\n",
    "filepath_2 = open('03_1_cafe.txt')   #by not assigning encoding in open() => default 'cp1252'\n",
    "filepath_2"
   ]
  },
  {
   "cell_type": "code",
   "execution_count": 8,
   "id": "c3e353b8",
   "metadata": {},
   "outputs": [
    {
     "data": {
      "text/plain": [
       "'cp1252'"
      ]
     },
     "execution_count": 8,
     "metadata": {},
     "output_type": "execute_result"
    }
   ],
   "source": [
    "filepath_2.encoding"
   ]
  },
  {
   "cell_type": "code",
   "execution_count": 9,
   "id": "70fad641",
   "metadata": {},
   "outputs": [
    {
     "data": {
      "text/plain": [
       "'cafÃ©'"
      ]
     },
     "execution_count": 9,
     "metadata": {},
     "output_type": "execute_result"
    }
   ],
   "source": [
    "filepath_2.read()"
   ]
  },
  {
   "cell_type": "code",
   "execution_count": 10,
   "id": "543b4b59",
   "metadata": {},
   "outputs": [
    {
     "data": {
      "text/plain": [
       "<_io.TextIOWrapper name='03_1_cafe.txt' mode='r' encoding='utf-8'>"
      ]
     },
     "execution_count": 10,
     "metadata": {},
     "output_type": "execute_result"
    }
   ],
   "source": [
    "#solution\n",
    "filepath_3 = open('03_1_cafe.txt', 'r', encoding='utf-8')\n",
    "filepath_3"
   ]
  },
  {
   "cell_type": "code",
   "execution_count": 11,
   "id": "5f11ddaa",
   "metadata": {},
   "outputs": [
    {
     "data": {
      "text/plain": [
       "'café'"
      ]
     },
     "execution_count": 11,
     "metadata": {},
     "output_type": "execute_result"
    }
   ],
   "source": [
    "filepath_3.read()"
   ]
  },
  {
   "cell_type": "markdown",
   "id": "05a57060",
   "metadata": {},
   "source": [
    "## Read in binary(hexadecimal) format"
   ]
  },
  {
   "cell_type": "code",
   "execution_count": 12,
   "id": "6f0ddc2c",
   "metadata": {},
   "outputs": [
    {
     "data": {
      "text/plain": [
       "<_io.BufferedReader name='03_1_cafe.txt'>"
      ]
     },
     "execution_count": 12,
     "metadata": {},
     "output_type": "execute_result"
    }
   ],
   "source": [
    "#'rb' read in binary format\n",
    "filepath_4 = open('03_1_cafe.txt', 'rb') \n",
    "filepath_4"
   ]
  },
  {
   "cell_type": "code",
   "execution_count": 13,
   "id": "9abf866b",
   "metadata": {},
   "outputs": [
    {
     "data": {
      "text/plain": [
       "b'caf\\xc3\\xa9'"
      ]
     },
     "execution_count": 13,
     "metadata": {},
     "output_type": "execute_result"
    }
   ],
   "source": [
    "filepath_4.read()"
   ]
  }
 ],
 "metadata": {
  "kernelspec": {
   "display_name": "Python 3",
   "language": "python",
   "name": "python3"
  },
  "language_info": {
   "codemirror_mode": {
    "name": "ipython",
    "version": 3
   },
   "file_extension": ".py",
   "mimetype": "text/x-python",
   "name": "python",
   "nbconvert_exporter": "python",
   "pygments_lexer": "ipython3",
   "version": "3.8.8"
  }
 },
 "nbformat": 4,
 "nbformat_minor": 5
}
