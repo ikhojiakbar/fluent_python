{
 "cells": [
  {
   "cell_type": "markdown",
   "id": "32eb559c",
   "metadata": {},
   "source": [
    "# Encoding Defaults"
   ]
  },
  {
   "cell_type": "code",
   "execution_count": 1,
   "id": "b253c83e",
   "metadata": {},
   "outputs": [],
   "source": [
    "import sys, locale\n",
    "\n",
    "expressions = '''\n",
    "        locale.getpreferredencoding()\n",
    "        type(my_file)\n",
    "        my_file.encoding\n",
    "        sys.stdout.isatty()\n",
    "        sys.stdout.encoding\n",
    "        sys.stdin.isatty()\n",
    "        sys.stdin.encoding\n",
    "        sys.stderr.isatty()\n",
    "        sys.stderr.encoding\n",
    "        sys.getdefaultencoding()\n",
    "        sys.getfilesystemencoding()\n",
    "        '''"
   ]
  },
  {
   "cell_type": "code",
   "execution_count": 2,
   "id": "d16fd2e8",
   "metadata": {},
   "outputs": [
    {
     "name": "stdout",
     "output_type": "stream",
     "text": [
      " locale.getpreferredencoding() => 'cp1252'\n",
      "                 type(my_file) => <class '_io.TextIOWrapper'>\n",
      "              my_file.encoding => 'cp1252'\n",
      "           sys.stdout.isatty() => False\n",
      "           sys.stdout.encoding => 'UTF-8'\n",
      "            sys.stdin.isatty() => False\n",
      "            sys.stdin.encoding => 'cp1252'\n",
      "           sys.stderr.isatty() => False\n",
      "           sys.stderr.encoding => 'UTF-8'\n",
      "      sys.getdefaultencoding() => 'utf-8'\n",
      "   sys.getfilesystemencoding() => 'utf-8'\n"
     ]
    }
   ],
   "source": [
    "my_file = open('dummy', 'w')\n",
    "\n",
    "for expression in expressions.split():\n",
    "    value = eval(expression)\n",
    "    print(expression.rjust(30), '=>', repr(value))"
   ]
  },
  {
   "cell_type": "markdown",
   "id": "745c1687",
   "metadata": {},
   "source": [
    "On Windows, the default encoders in the system is `cp1252`. => Conflicts when decode the codes\n",
    "On MacOS/LINUX, the deafult is utf-8 only for language as well as for OS"
   ]
  }
 ],
 "metadata": {
  "kernelspec": {
   "display_name": "Python 3",
   "language": "python",
   "name": "python3"
  },
  "language_info": {
   "codemirror_mode": {
    "name": "ipython",
    "version": 3
   },
   "file_extension": ".py",
   "mimetype": "text/x-python",
   "name": "python",
   "nbconvert_exporter": "python",
   "pygments_lexer": "ipython3",
   "version": "3.8.8"
  }
 },
 "nbformat": 4,
 "nbformat_minor": 5
}
